{
  "nbformat": 4,
  "nbformat_minor": 0,
  "metadata": {
    "colab": {
      "name": "Face Recognition",
      "provenance": [],
      "collapsed_sections": [],
      "authorship_tag": "ABX9TyOukoTUKnxoSaS1+ED6nJh/"
    },
    "kernelspec": {
      "name": "python3",
      "display_name": "Python 3"
    }
  },
  "cells": [
    {
      "cell_type": "markdown",
      "metadata": {
        "id": "WtJFjbpjlAA_",
        "colab_type": "text"
      },
      "source": [
        "*Medium Link for detailed Description*  : https://medium.com/@gopinath2018/real-time-face-recognition-916175b8ab1b"
      ]
    },
    {
      "cell_type": "markdown",
      "metadata": {
        "id": "bPBUssnWkdYV",
        "colab_type": "text"
      },
      "source": [
        "Step 1 : **Collecting DataSet**"
      ]
    },
    {
      "cell_type": "code",
      "metadata": {
        "id": "1a-7laGhiJHX",
        "colab_type": "code",
        "colab": {}
      },
      "source": [
        "import cv2\n",
        "import os\n",
        "\n",
        "cam = cv2.VideoCapture(0)\n",
        "cam.set(3, 640) # set video width\n",
        "cam.set(4, 480) # set video height\n",
        "\n",
        "face_detector = cv2.CascadeClassifier('haarcascade_frontalface_default.xml')\n",
        "\n",
        "# For each person, enter one numeric face id\n",
        "face_id = input('\\n enter user id end press <return> ==>  ')\n",
        "\n",
        "print(\"\\n [INFO] Initializing face capture. Look the camera and wait ...\")\n",
        "# Initialize individual sampling face count\n",
        "count = 0\n",
        "\n",
        "while(True):\n",
        "    ret, img = cam.read()\n",
        "    img = cv2.flip(img, -1) # flip video image vertically\n",
        "    gray = cv2.cvtColor(img, cv2.COLOR_BGR2GRAY)\n",
        "    faces = face_detector.detectMultiScale(gray, 1.3, 5)\n",
        "\n",
        "    for (x,y,w,h) in faces:\n",
        "        cv2.rectangle(img, (x,y), (x+w,y+h), (255,0,0), 2)     \n",
        "        count += 1\n",
        "\n",
        "        # Save the captured image into the datasets folder\n",
        "        cv2.imwrite(\"dataset/User.\" + str(face_id) + '.' + str(count) + \".jpg\", gray[y:y+h,x:x+w])\n",
        "\n",
        "        cv2.imshow('image', img)\n",
        "\n",
        "    k = cv2.waitKey(100) & 0xff # Press 'ESC' for exiting video\n",
        "    if k == 27:\n",
        "        break\n",
        "    elif count >= 30: # Take 30 face sample and stop video\n",
        "         break\n",
        "\n",
        "# Do a bit of cleanup\n",
        "print(\"\\n [INFO] Exiting Program and cleanup stuff\")\n",
        "cam.release()\n",
        "cv2.destroyAllWindows()"
      ],
      "execution_count": 0,
      "outputs": []
    },
    {
      "cell_type": "markdown",
      "metadata": {
        "id": "urzprmqOkpdZ",
        "colab_type": "text"
      },
      "source": [
        "Step 2:  Creating trainer.yml"
      ]
    },
    {
      "cell_type": "code",
      "metadata": {
        "id": "wPd2XCQIkogC",
        "colab_type": "code",
        "colab": {}
      },
      "source": [
        "import cv2\n",
        "import numpy as np\n",
        "from PIL import Image\n",
        "import os\n",
        "\n",
        "# Path for face image database\n",
        "path = 'dataset'\n",
        "\n",
        "recognizer = cv2.face.LBPHFaceRecognizer_create()\n",
        "detector = cv2.CascadeClassifier(\"haarcascade_frontalface_default.xml\");\n",
        "\n",
        "# function to get the images and label data\n",
        "def getImagesAndLabels(path):\n",
        "    imagePaths = [os.path.join(path,f) for f in os.listdir(path)]     \n",
        "    faceSamples=[]\n",
        "    ids = []\n",
        "    for imagePath in imagePaths:\n",
        "        PIL_img = Image.open(imagePath).convert('L') # convert it to grayscale\n",
        "        img_numpy = np.array(PIL_img,'uint8')\n",
        "        id = int(os.path.split(imagePath)[-1].split(\".\")[1])\n",
        "        faces = detector.detectMultiScale(img_numpy)\n",
        "        for (x,y,w,h) in faces:\n",
        "            faceSamples.append(img_numpy[y:y+h,x:x+w])\n",
        "            ids.append(id)\n",
        "    return faceSamples,ids\n",
        "\n",
        "print (\"\\n [INFO] Training faces. It will take a few seconds. Wait ...\")\n",
        "faces,ids = getImagesAndLabels(path)\n",
        "recognizer.train(faces, np.array(ids))\n",
        "\n",
        "# Save the model into trainer/trainer.yml\n",
        "recognizer.write('trainer/trainer.yml') # recognizer.save() worked on Mac, but not on Pi\n",
        "\n",
        "# Print the numer of faces trained and end program\n",
        "print(\"\\n [INFO] {0} faces trained. Exiting Program\".format(len(np.unique(ids))))"
      ],
      "execution_count": 0,
      "outputs": []
    },
    {
      "cell_type": "markdown",
      "metadata": {
        "id": "ExGd6Ej7iTtr",
        "colab_type": "text"
      },
      "source": [
        "STEP 3 : **Recognizer**"
      ]
    },
    {
      "cell_type": "code",
      "metadata": {
        "id": "il4yh364iJmz",
        "colab_type": "code",
        "colab": {}
      },
      "source": [
        "import cv2\n",
        "import numpy as np\n",
        "import os \n",
        "\n",
        "recognizer = cv2.face.LBPHFaceRecognizer_create()\n",
        "recognizer.read('trainer/trainer.yml')\n",
        "cascadePath = \"haarcascade_frontalface_default.xml\"\n",
        "faceCascade = cv2.CascadeClassifier(cascadePath);\n",
        "\n",
        "font = cv2.FONT_HERSHEY_SIMPLEX\n",
        "\n",
        "#iniciate id counter\n",
        "id = 0\n",
        "\n",
        "# names related to ids: example ==> Marcelo: id=1,  etc\n",
        "names = ['None', 'Devi', 'Gopinath', 'Jayalalitha'] \n",
        "\n",
        "# Initialize and start realtime video capture\n",
        "cam = cv2.VideoCapture(0)\n",
        "cam.set(3, 640) # set video widht\n",
        "cam.set(4, 480) # set video height\n",
        "\n",
        "# Define min window size to be recognized as a face\n",
        "minW = 0.1*cam.get(3)\n",
        "minH = 0.1*cam.get(4)\n",
        "\n",
        "while True:\n",
        "    ret, img =cam.read()\n",
        "    img = cv2.flip(img, -1) # Flip vertically\n",
        "    gray = cv2.cvtColor(img,cv2.COLOR_BGR2GRAY)\n",
        "    \n",
        "    faces = faceCascade.detectMultiScale( \n",
        "        gray,\n",
        "        scaleFactor = 1.2,\n",
        "        minNeighbors = 5,\n",
        "        minSize = (int(minW), int(minH)),\n",
        "       )\n",
        "\n",
        "    for(x,y,w,h) in faces:\n",
        "        cv2.rectangle(img, (x,y), (x+w,y+h), (0,255,0), 2)\n",
        "        id, confidence = recognizer.predict(gray[y:y+h,x:x+w])\n",
        "\n",
        "        # Check if confidence is less them 100 ==> \"0\" is perfect match \n",
        "        if (confidence < 100):\n",
        "            id = names[id]\n",
        "            confidence = \"  {0}%\".format(round(100 - confidence))\n",
        "        else:\n",
        "            id = \"unknown\"\n",
        "            confidence = \"  {0}%\".format(round(100 - confidence))\n",
        "        \n",
        "        cv2.putText(img, str(id), (x+5,y-5), font, 1, (255,255,255), 2)\n",
        "        cv2.putText(img, str(confidence), (x+5,y+h-5), font, 1, (255,255,0), 1)  \n",
        "    \n",
        "    cv2.imshow('camera',img) \n",
        "\n",
        "    k = cv2.waitKey(10) & 0xff # Press 'ESC' for exiting video\n",
        "    if k == 27:\n",
        "        break\n",
        "\n",
        "# Do a bit of cleanup\n",
        "print(\"\\n [INFO] Exiting Program and cleanup stuff\")\n",
        "cam.release()\n",
        "cv2.destroyAllWindows()"
      ],
      "execution_count": 0,
      "outputs": []
    },
    {
      "cell_type": "code",
      "metadata": {
        "id": "-tJ8cbeYiJKx",
        "colab_type": "code",
        "colab": {}
      },
      "source": [
        ""
      ],
      "execution_count": 0,
      "outputs": []
    }
  ]
}
